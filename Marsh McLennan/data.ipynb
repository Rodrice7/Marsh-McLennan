{
 "cells": [
  {
   "cell_type": "code",
   "execution_count": 1,
   "metadata": {},
   "outputs": [
    {
     "name": "stderr",
     "output_type": "stream",
     "text": [
      "c:\\Users\\jimen\\anaconda3\\Lib\\site-packages\\pandas\\core\\arrays\\masked.py:60: UserWarning: Pandas requires version '1.3.6' or newer of 'bottleneck' (version '1.3.5' currently installed).\n",
      "  from pandas.core import (\n"
     ]
    }
   ],
   "source": [
    "import os\n",
    "import pandas as pd\n",
    "from datetime import datetime"
   ]
  },
  {
   "cell_type": "code",
   "execution_count": null,
   "metadata": {},
   "outputs": [],
   "source": [
    "base_path = r\"C:\\Users\\jimen\\Desktop\\Marsh Mclennan\\2024\"\n",
    "data_frames = []"
   ]
  },
  {
   "cell_type": "code",
   "execution_count": 5,
   "metadata": {},
   "outputs": [],
   "source": [
    "# Recorrer todas las carpetas (año, mes, día)\n",
    "for root, dirs, files in os.walk(base_path):\n",
    "    # Extraer la fecha del nombre de la carpeta (formato esperado: dd-mm-yy)\n",
    "    path_parts = root.split(os.sep)\n",
    "    if len(path_parts) >= 3:  # Nos aseguramos de que esté en una carpeta de día dentro de mes\n",
    "        try:\n",
    "            date_str = path_parts[-1]  # Parte final de la ruta es el día\n",
    "            date = datetime.strptime(date_str, \"%d-%m-%y\").date()\n",
    "        except ValueError:\n",
    "            continue  # Si no se puede convertir, continuar con la siguiente carpeta\n",
    "\n",
    "        # Iterar sobre los archivos en la carpeta\n",
    "        for file in files:\n",
    "            file_path = os.path.join(root, file)\n",
    "            # Leer archivos CSV o Excel\n",
    "            try:\n",
    "                if file.endswith(\".csv\"):\n",
    "                    df = pd.read_csv(file_path, on_bad_lines='skip', delimiter=';', engine='python')\n",
    "                elif file.endswith(\".xlsx\"):\n",
    "                    try:\n",
    "                        df = pd.read_excel(file_path, engine='openpyxl')\n",
    "                    except ImportError:\n",
    "                        print(f\"Error: se requiere la versión '3.1.0' o superior de 'openpyxl' para leer {file_path}\")\n",
    "                        continue\n",
    "                else:\n",
    "                    continue\n",
    "\n",
    "                # Limpiar columnas sin nombre (generalmente índice)\n",
    "                df = df.loc[:, ~df.columns.str.contains('^Unnamed')]  # Eliminar columnas \"Unnamed\"\n",
    "\n",
    "                # Renombrar columnas si es necesario\n",
    "                rename_mapping = {\n",
    "                    \"Client_Name\": \"Client\",\n",
    "                    \"País\": \"Country\",\n",
    "                    \"Moneda\": \"Currency\",\n",
    "                    \"Transacción\": \"Transaction\"\n",
    "                }\n",
    "                df.rename(columns=rename_mapping, inplace=True)\n",
    "\n",
    "                # Validar si las columnas esperadas existen\n",
    "                expected_columns = [\"Client\", \"Country\", \"Currency\", \"Transaction\"]\n",
    "                missing_columns = [col for col in expected_columns if col not in df.columns]\n",
    "                if missing_columns:\n",
    "                    print(f\"Error: faltan columnas esperadas en el archivo {file_path}: {missing_columns}\")\n",
    "                    continue\n",
    "\n",
    "                # Homogeneizar la columna 'Transaction'\n",
    "                df['Transaction'] = df['Transaction'].astype(str)\n",
    "                df['Transaction'] = df['Transaction'].str.replace(',', '.').str.replace(' ', '')  # Reemplazar ',' por '.' y eliminar espacios\n",
    "                df['Transaction'] = pd.to_numeric(df['Transaction'], errors='coerce')  # Convertir a numérico\n",
    "\n",
    "                # Redondear a dos decimales (opcional)\n",
    "                df['Transaction'] = df['Transaction'].round(2)\n",
    "\n",
    "                # Añadir la columna de fecha\n",
    "                df[\"date\"] = date\n",
    "\n",
    "                # Asegurarse de que las columnas estén en el orden correcto\n",
    "                expected_columns.append(\"date\")\n",
    "                df = df[expected_columns]\n",
    "\n",
    "                # Agregar el DataFrame a la lista\n",
    "                data_frames.append(df)\n",
    "\n",
    "            except pd.errors.ParserError as e:\n",
    "                print(f\"Error al tokenizar el archivo {file_path}: {e}\")\n",
    "            except PermissionError:\n",
    "                print(f\"Error de permisos al intentar leer el archivo {file_path}\")\n",
    "            except Exception as e:\n",
    "                print(f\"Error al leer el archivo {file_path}: {e}\")"
   ]
  },
  {
   "cell_type": "code",
   "execution_count": 6,
   "metadata": {},
   "outputs": [
    {
     "name": "stdout",
     "output_type": "stream",
     "text": [
      "Archivo consolidado guardado en: C:\\Users\\jimen\\Desktop\\Marsh Mclennan\\Años\\consolidated_data_2024.csv\n"
     ]
    }
   ],
   "source": [
    "# Concatenar todos los DataFrames\n",
    "if data_frames:\n",
    "    final_df = pd.concat(data_frames, ignore_index=True)\n",
    "    \n",
    "    # Guardar el DataFrame final a un archivo CSV\n",
    "    # Cambiar la ruta de salida del archivo consolidado\n",
    "    output_path = r\"C:\\Users\\jimen\\Desktop\\Marsh Mclennan\\Años\\consolidated_data_2024.csv\"\n",
    "    final_df.to_csv(output_path, index=False)\n",
    "    print(f\"Archivo consolidado guardado en: {output_path}\")\n",
    "else:\n",
    "    print(\"No se encontraron datos para consolidar.\")"
   ]
  }
 ],
 "metadata": {
  "kernelspec": {
   "display_name": "base",
   "language": "python",
   "name": "python3"
  },
  "language_info": {
   "codemirror_mode": {
    "name": "ipython",
    "version": 3
   },
   "file_extension": ".py",
   "mimetype": "text/x-python",
   "name": "python",
   "nbconvert_exporter": "python",
   "pygments_lexer": "ipython3",
   "version": "3.11.5"
  }
 },
 "nbformat": 4,
 "nbformat_minor": 2
}
